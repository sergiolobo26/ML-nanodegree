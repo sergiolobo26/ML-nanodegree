{
 "cells": [
  {
   "cell_type": "code",
   "execution_count": null,
   "id": "2479f780-37a5-4304-a95a-d38a3777c7b6",
   "metadata": {},
   "outputs": [],
   "source": [
    "print('hello world, from Classic')"
   ]
  }
 ],
 "metadata": {
  "kernelspec": {
   "display_name": "",
   "name": ""
  },
  "language_info": {
   "name": ""
  }
 },
 "nbformat": 4,
 "nbformat_minor": 5
}
